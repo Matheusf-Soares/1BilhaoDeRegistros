





import pandas as pd
import polars as pl
from pyspark.sql import SparkSession
import duckdb
