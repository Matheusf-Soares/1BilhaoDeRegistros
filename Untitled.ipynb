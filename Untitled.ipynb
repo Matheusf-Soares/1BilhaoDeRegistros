{
 "cells": [
  {
   "cell_type": "markdown",
   "id": "520dfd70-2967-40ed-a6b4-f7b5985e8a31",
   "metadata": {},
   "source": [
    "# ETL de Dados"
   ]
  },
  {
   "cell_type": "markdown",
   "id": "69f75eda-0b95-4b04-a977-e8261b9ae6dc",
   "metadata": {},
   "source": [
    "ETL(Extract - Transform - Load) de 1 bilhão de registros"
   ]
  },
  {
   "cell_type": "code",
   "execution_count": 4,
   "id": "f38eea3b-e422-4e87-8a57-8d3c6cd3f448",
   "metadata": {},
   "outputs": [],
   "source": [
    "import pandas as pd\n",
    "import polars as pl\n",
    "from pyspark.sql import SparkSession\n",
    "import duckdb"
   ]
  }
 ],
 "metadata": {
  "kernelspec": {
   "display_name": "Python 3 (ipykernel)",
   "language": "python",
   "name": "python3"
  },
  "language_info": {
   "codemirror_mode": {
    "name": "ipython",
    "version": 3
   },
   "file_extension": ".py",
   "mimetype": "text/x-python",
   "name": "python",
   "nbconvert_exporter": "python",
   "pygments_lexer": "ipython3",
   "version": "3.11.7"
  },
  "widgets": {
   "application/vnd.jupyter.widget-state+json": {
    "state": {},
    "version_major": 2,
    "version_minor": 0
   }
  }
 },
 "nbformat": 4,
 "nbformat_minor": 5
}
